{
 "cells": [
  {
   "cell_type": "markdown",
   "id": "f905aee5",
   "metadata": {},
   "source": [
    "# Part B\n",
    "## NOTE: \n",
    "1. Make sure to write your name and enrolment number properly \n",
    "2. Annotate your answers whereever needed\n",
    "3. Q1 - 5 marks, Q2 - 15 marks, Q3 - 10 marks, Q4 - 20 marks"
   ]
  },
  {
   "cell_type": "markdown",
   "id": "62cdc9fc",
   "metadata": {},
   "source": [
    "## Name: Jatin Bhandari\n",
    "## Enrolment Number: 21566007"
   ]
  },
  {
   "cell_type": "markdown",
   "id": "a8f5aca4",
   "metadata": {},
   "source": [
    "## 1. Following code-segment containing records of two employees in the form of nested dictionary is given to us:"
   ]
  },
  {
   "cell_type": "code",
   "execution_count": 1,
   "id": "c3004ffa",
   "metadata": {},
   "outputs": [],
   "source": [
    "people = {1: {'Name': 'Amit', 'Age': '27', 'Job': 'Programmer'},\n",
    "          2: {'Name': 'Ashish', 'Age': '22', 'Job': 'Data Analyst'}}"
   ]
  },
  {
   "attachments": {
    "image.png": {
     "image/png": "[encoded data removed]"
    }
   },
   "cell_type": "markdown",
   "id": "330023c4",
   "metadata": {},
   "source": [
    "### Making use of for loop, write a segment so that we can get the output in the form:\n",
    "![image.png](attachment:image.png)"
   ]
  },
  {
   "cell_type": "markdown",
   "id": "04b4042c-6013-43ba-b5d6-a2a672f6cfbc",
   "metadata": {},
   "source": [
    "### Ans -> 1"
   ]
  },
  {
   "cell_type": "code",
   "execution_count": 2,
   "id": "9c7537e4",
   "metadata": {},
   "outputs": [
    {
     "name": "stdout",
     "output_type": "stream",
     "text": [
      "Person ID: 1\n",
      "Name: Amit\n",
      "Age: 27\n",
      "Job: Programmer\n",
      "\n",
      "Person ID: 2\n",
      "Name: Ashish\n",
      "Age: 22\n",
      "Job: Data Analyst\n",
      "\n"
     ]
    }
   ],
   "source": [
    "for key in people:\n",
    "    print(f\"Person ID: {key}\\nName: {people[key]['Name']}\\nAge: {people[key]['Age']}\\nJob: {people[key]['Job']}\\n\")\n",
    "\n",
    "## used f string for printing the details of all the employee (people)"
   ]
  },
  {
   "cell_type": "markdown",
   "id": "2860b867",
   "metadata": {},
   "source": [
    "## 2. Creare a pandas dataframe of random numbers between 0 and 1, having 10 rows and 8 columns. The columns should be named from a to h.\n",
    "## Your dataframe should look somethig like:"
   ]
  },
  {
   "attachments": {
    "image.png": {
     "image/png": "[encoded data removed]"
    }
   },
   "cell_type": "markdown",
   "id": "04a4e3b8",
   "metadata": {},
   "source": [
    "![image.png](attachment:image.png)"
   ]
  },
  {
   "cell_type": "markdown",
   "id": "8bfc5b2b",
   "metadata": {},
   "source": [
    "## 2(a) For reproducebility of the code, fix the seed of random numbers"
   ]
  },
  {
   "cell_type": "markdown",
   "id": "7350e77c-cecb-4f86-a641-8e67853181bf",
   "metadata": {},
   "source": [
    "### Ans -> 2(A)"
   ]
  },
  {
   "cell_type": "code",
   "execution_count": 3,
   "id": "dfd63452",
   "metadata": {},
   "outputs": [
    {
     "data": {
      "text/html": [
       "<div>\n",
       "<style scoped>\n",
       "    .dataframe tbody tr th:only-of-type {\n",
       "        vertical-align: middle;\n",
       "    }\n",
       "\n",
       "    .dataframe tbody tr th {\n",
       "        vertical-align: top;\n",
       "    }\n",
       "\n",
       "    .dataframe thead th {\n",
       "        text-align: right;\n",
       "    }\n",
       "</style>\n",
       "<table border=\"1\" class=\"dataframe\">\n",
       "  <thead>\n",
       "    <tr style=\"text-align: right;\">\n",
       "      <th></th>\n",
       "      <th>a</th>\n",
       "      <th>b</th>\n",
       "      <th>c</th>\n",
       "      <th>d</th>\n",
       "      <th>e</th>\n",
       "      <th>f</th>\n",
       "      <th>g</th>\n",
       "      <th>h</th>\n",
       "    </tr>\n",
       "  </thead>\n",
       "  <tbody>\n",
       "    <tr>\n",
       "      <th>0</th>\n",
       "      <td>0.494602</td>\n",
       "      <td>0.228083</td>\n",
       "      <td>0.255474</td>\n",
       "      <td>0.396330</td>\n",
       "      <td>0.377315</td>\n",
       "      <td>0.996574</td>\n",
       "      <td>0.408197</td>\n",
       "      <td>0.771894</td>\n",
       "    </tr>\n",
       "    <tr>\n",
       "      <th>1</th>\n",
       "      <td>0.760537</td>\n",
       "      <td>0.310009</td>\n",
       "      <td>0.346541</td>\n",
       "      <td>0.351765</td>\n",
       "      <td>0.145467</td>\n",
       "      <td>0.972665</td>\n",
       "      <td>0.909178</td>\n",
       "      <td>0.559957</td>\n",
       "    </tr>\n",
       "    <tr>\n",
       "      <th>2</th>\n",
       "      <td>0.313591</td>\n",
       "      <td>0.888200</td>\n",
       "      <td>0.674573</td>\n",
       "      <td>0.391087</td>\n",
       "      <td>0.507184</td>\n",
       "      <td>0.524104</td>\n",
       "      <td>0.928001</td>\n",
       "      <td>0.571373</td>\n",
       "    </tr>\n",
       "    <tr>\n",
       "      <th>3</th>\n",
       "      <td>0.668338</td>\n",
       "      <td>0.052259</td>\n",
       "      <td>0.327057</td>\n",
       "      <td>0.056402</td>\n",
       "      <td>0.179828</td>\n",
       "      <td>0.925933</td>\n",
       "      <td>0.938015</td>\n",
       "      <td>0.714093</td>\n",
       "    </tr>\n",
       "    <tr>\n",
       "      <th>4</th>\n",
       "      <td>0.732688</td>\n",
       "      <td>0.461748</td>\n",
       "      <td>0.931329</td>\n",
       "      <td>0.406420</td>\n",
       "      <td>0.683206</td>\n",
       "      <td>0.649916</td>\n",
       "      <td>0.598765</td>\n",
       "      <td>0.222039</td>\n",
       "    </tr>\n",
       "    <tr>\n",
       "      <th>5</th>\n",
       "      <td>0.682357</td>\n",
       "      <td>0.878056</td>\n",
       "      <td>0.796717</td>\n",
       "      <td>0.432002</td>\n",
       "      <td>0.917878</td>\n",
       "      <td>0.781834</td>\n",
       "      <td>0.725750</td>\n",
       "      <td>0.124855</td>\n",
       "    </tr>\n",
       "    <tr>\n",
       "      <th>6</th>\n",
       "      <td>0.916308</td>\n",
       "      <td>0.387711</td>\n",
       "      <td>0.294930</td>\n",
       "      <td>0.616731</td>\n",
       "      <td>0.467846</td>\n",
       "      <td>0.255339</td>\n",
       "      <td>0.838996</td>\n",
       "      <td>0.178619</td>\n",
       "    </tr>\n",
       "    <tr>\n",
       "      <th>7</th>\n",
       "      <td>0.227114</td>\n",
       "      <td>0.659876</td>\n",
       "      <td>0.479116</td>\n",
       "      <td>0.073447</td>\n",
       "      <td>0.138960</td>\n",
       "      <td>0.112307</td>\n",
       "      <td>0.477785</td>\n",
       "      <td>0.540296</td>\n",
       "    </tr>\n",
       "    <tr>\n",
       "      <th>8</th>\n",
       "      <td>0.958071</td>\n",
       "      <td>0.583792</td>\n",
       "      <td>0.526664</td>\n",
       "      <td>0.922263</td>\n",
       "      <td>0.919257</td>\n",
       "      <td>0.252009</td>\n",
       "      <td>0.682633</td>\n",
       "      <td>0.964276</td>\n",
       "    </tr>\n",
       "    <tr>\n",
       "      <th>9</th>\n",
       "      <td>0.226962</td>\n",
       "      <td>0.716017</td>\n",
       "      <td>0.797760</td>\n",
       "      <td>0.936751</td>\n",
       "      <td>0.853722</td>\n",
       "      <td>0.421546</td>\n",
       "      <td>0.005440</td>\n",
       "      <td>0.034865</td>\n",
       "    </tr>\n",
       "  </tbody>\n",
       "</table>\n",
       "</div>"
      ],
      "text/plain": [
       "          a         b         c         d         e         f         g  \\\n",
       "0  0.494602  0.228083  0.255474  0.396330  0.377315  0.996574  0.408197   \n",
       "1  0.760537  0.310009  0.346541  0.351765  0.145467  0.972665  0.909178   \n",
       "2  0.313591  0.888200  0.674573  0.391087  0.507184  0.524104  0.928001   \n",
       "3  0.668338  0.052259  0.327057  0.056402  0.179828  0.925933  0.938015   \n",
       "4  0.732688  0.461748  0.931329  0.406420  0.683206  0.649916  0.598765   \n",
       "5  0.682357  0.878056  0.796717  0.432002  0.917878  0.781834  0.725750   \n",
       "6  0.916308  0.387711  0.294930  0.616731  0.467846  0.255339  0.838996   \n",
       "7  0.227114  0.659876  0.479116  0.073447  0.138960  0.112307  0.477785   \n",
       "8  0.958071  0.583792  0.526664  0.922263  0.919257  0.252009  0.682633   \n",
       "9  0.226962  0.716017  0.797760  0.936751  0.853722  0.421546  0.005440   \n",
       "\n",
       "          h  \n",
       "0  0.771894  \n",
       "1  0.559957  \n",
       "2  0.571373  \n",
       "3  0.714093  \n",
       "4  0.222039  \n",
       "5  0.124855  \n",
       "6  0.178619  \n",
       "7  0.540296  \n",
       "8  0.964276  \n",
       "9  0.034865  "
      ]
     },
     "execution_count": 3,
     "metadata": {},
     "output_type": "execute_result"
    }
   ],
   "source": [
    "## Importing required libraries\n",
    "import numpy as np\n",
    "import pandas as pd\n",
    "\n",
    "## Fixing the seeds as 50\n",
    "np.random.seed(50)\n",
    "\n",
    "## creating a 8x10 matrix of random numbers between 0-1\n",
    "matrix = np.random.random((10,8))\n",
    "\n",
    "## Creating the database and naming it as per the Columns name\n",
    "col = [\"a\",\"b\",\"c\",\"d\",\"e\",\"f\",\"g\",\"h\"]\n",
    "dataset = pd.DataFrame(matrix,columns=col)\n",
    "dataset"
   ]
  },
  {
   "cell_type": "markdown",
   "id": "0843477e",
   "metadata": {},
   "source": [
    "## 2(b) Create another column named *sum* containg the sum of the previous columns"
   ]
  },
  {
   "cell_type": "markdown",
   "id": "6dbdcf16-6814-4fe8-8c60-247c80c299ab",
   "metadata": {},
   "source": [
    "### Ans -> 2(B)"
   ]
  },
  {
   "cell_type": "code",
   "execution_count": 4,
   "id": "08949b48",
   "metadata": {},
   "outputs": [
    {
     "data": {
      "text/html": [
       "<div>\n",
       "<style scoped>\n",
       "    .dataframe tbody tr th:only-of-type {\n",
       "        vertical-align: middle;\n",
       "    }\n",
       "\n",
       "    .dataframe tbody tr th {\n",
       "        vertical-align: top;\n",
       "    }\n",
       "\n",
       "    .dataframe thead th {\n",
       "        text-align: right;\n",
       "    }\n",
       "</style>\n",
       "<table border=\"1\" class=\"dataframe\">\n",
       "  <thead>\n",
       "    <tr style=\"text-align: right;\">\n",
       "      <th></th>\n",
       "      <th>a</th>\n",
       "      <th>b</th>\n",
       "      <th>c</th>\n",
       "      <th>d</th>\n",
       "      <th>e</th>\n",
       "      <th>f</th>\n",
       "      <th>g</th>\n",
       "      <th>h</th>\n",
       "      <th>sum</th>\n",
       "    </tr>\n",
       "  </thead>\n",
       "  <tbody>\n",
       "    <tr>\n",
       "      <th>0</th>\n",
       "      <td>0.494602</td>\n",
       "      <td>0.228083</td>\n",
       "      <td>0.255474</td>\n",
       "      <td>0.396330</td>\n",
       "      <td>0.377315</td>\n",
       "      <td>0.996574</td>\n",
       "      <td>0.408197</td>\n",
       "      <td>0.771894</td>\n",
       "      <td>3.928469</td>\n",
       "    </tr>\n",
       "    <tr>\n",
       "      <th>1</th>\n",
       "      <td>0.760537</td>\n",
       "      <td>0.310009</td>\n",
       "      <td>0.346541</td>\n",
       "      <td>0.351765</td>\n",
       "      <td>0.145467</td>\n",
       "      <td>0.972665</td>\n",
       "      <td>0.909178</td>\n",
       "      <td>0.559957</td>\n",
       "      <td>4.356119</td>\n",
       "    </tr>\n",
       "    <tr>\n",
       "      <th>2</th>\n",
       "      <td>0.313591</td>\n",
       "      <td>0.888200</td>\n",
       "      <td>0.674573</td>\n",
       "      <td>0.391087</td>\n",
       "      <td>0.507184</td>\n",
       "      <td>0.524104</td>\n",
       "      <td>0.928001</td>\n",
       "      <td>0.571373</td>\n",
       "      <td>4.798113</td>\n",
       "    </tr>\n",
       "    <tr>\n",
       "      <th>3</th>\n",
       "      <td>0.668338</td>\n",
       "      <td>0.052259</td>\n",
       "      <td>0.327057</td>\n",
       "      <td>0.056402</td>\n",
       "      <td>0.179828</td>\n",
       "      <td>0.925933</td>\n",
       "      <td>0.938015</td>\n",
       "      <td>0.714093</td>\n",
       "      <td>3.861924</td>\n",
       "    </tr>\n",
       "    <tr>\n",
       "      <th>4</th>\n",
       "      <td>0.732688</td>\n",
       "      <td>0.461748</td>\n",
       "      <td>0.931329</td>\n",
       "      <td>0.406420</td>\n",
       "      <td>0.683206</td>\n",
       "      <td>0.649916</td>\n",
       "      <td>0.598765</td>\n",
       "      <td>0.222039</td>\n",
       "      <td>4.686111</td>\n",
       "    </tr>\n",
       "    <tr>\n",
       "      <th>5</th>\n",
       "      <td>0.682357</td>\n",
       "      <td>0.878056</td>\n",
       "      <td>0.796717</td>\n",
       "      <td>0.432002</td>\n",
       "      <td>0.917878</td>\n",
       "      <td>0.781834</td>\n",
       "      <td>0.725750</td>\n",
       "      <td>0.124855</td>\n",
       "      <td>5.339450</td>\n",
       "    </tr>\n",
       "    <tr>\n",
       "      <th>6</th>\n",
       "      <td>0.916308</td>\n",
       "      <td>0.387711</td>\n",
       "      <td>0.294930</td>\n",
       "      <td>0.616731</td>\n",
       "      <td>0.467846</td>\n",
       "      <td>0.255339</td>\n",
       "      <td>0.838996</td>\n",
       "      <td>0.178619</td>\n",
       "      <td>3.956481</td>\n",
       "    </tr>\n",
       "    <tr>\n",
       "      <th>7</th>\n",
       "      <td>0.227114</td>\n",
       "      <td>0.659876</td>\n",
       "      <td>0.479116</td>\n",
       "      <td>0.073447</td>\n",
       "      <td>0.138960</td>\n",
       "      <td>0.112307</td>\n",
       "      <td>0.477785</td>\n",
       "      <td>0.540296</td>\n",
       "      <td>2.708903</td>\n",
       "    </tr>\n",
       "    <tr>\n",
       "      <th>8</th>\n",
       "      <td>0.958071</td>\n",
       "      <td>0.583792</td>\n",
       "      <td>0.526664</td>\n",
       "      <td>0.922263</td>\n",
       "      <td>0.919257</td>\n",
       "      <td>0.252009</td>\n",
       "      <td>0.682633</td>\n",
       "      <td>0.964276</td>\n",
       "      <td>5.808965</td>\n",
       "    </tr>\n",
       "    <tr>\n",
       "      <th>9</th>\n",
       "      <td>0.226962</td>\n",
       "      <td>0.716017</td>\n",
       "      <td>0.797760</td>\n",
       "      <td>0.936751</td>\n",
       "      <td>0.853722</td>\n",
       "      <td>0.421546</td>\n",
       "      <td>0.005440</td>\n",
       "      <td>0.034865</td>\n",
       "      <td>3.993064</td>\n",
       "    </tr>\n",
       "  </tbody>\n",
       "</table>\n",
       "</div>"
      ],
      "text/plain": [
       "          a         b         c         d         e         f         g  \\\n",
       "0  0.494602  0.228083  0.255474  0.396330  0.377315  0.996574  0.408197   \n",
       "1  0.760537  0.310009  0.346541  0.351765  0.145467  0.972665  0.909178   \n",
       "2  0.313591  0.888200  0.674573  0.391087  0.507184  0.524104  0.928001   \n",
       "3  0.668338  0.052259  0.327057  0.056402  0.179828  0.925933  0.938015   \n",
       "4  0.732688  0.461748  0.931329  0.406420  0.683206  0.649916  0.598765   \n",
       "5  0.682357  0.878056  0.796717  0.432002  0.917878  0.781834  0.725750   \n",
       "6  0.916308  0.387711  0.294930  0.616731  0.467846  0.255339  0.838996   \n",
       "7  0.227114  0.659876  0.479116  0.073447  0.138960  0.112307  0.477785   \n",
       "8  0.958071  0.583792  0.526664  0.922263  0.919257  0.252009  0.682633   \n",
       "9  0.226962  0.716017  0.797760  0.936751  0.853722  0.421546  0.005440   \n",
       "\n",
       "          h       sum  \n",
       "0  0.771894  3.928469  \n",
       "1  0.559957  4.356119  \n",
       "2  0.571373  4.798113  \n",
       "3  0.714093  3.861924  \n",
       "4  0.222039  4.686111  \n",
       "5  0.124855  5.339450  \n",
       "6  0.178619  3.956481  \n",
       "7  0.540296  2.708903  \n",
       "8  0.964276  5.808965  \n",
       "9  0.034865  3.993064  "
      ]
     },
     "execution_count": 4,
     "metadata": {},
     "output_type": "execute_result"
    }
   ],
   "source": [
    "## Creating a new column name \"Sum\" and adding all the column value in the respective rows\n",
    "dataset['sum'] = dataset.sum(axis=1)\n",
    "dataset"
   ]
  },
  {
   "cell_type": "markdown",
   "id": "ce4d73b1",
   "metadata": {},
   "source": [
    "## 2(c) Draw Histogram plots for the first three columns and display the three graphs "
   ]
  },
  {
   "cell_type": "markdown",
   "id": "a4a18a36-e8dc-41a4-a828-c2cc813c352d",
   "metadata": {},
   "source": [
    "### Ans -> 2(C)"
   ]
  },
  {
   "cell_type": "code",
   "execution_count": 5,
   "id": "5d79be08",
   "metadata": {},
   "outputs": [
    {
     "data": {
      "image/png": "[encoded data removed]",
      "text/plain": [
       "<Figure size 432x864 with 3 Axes>"
      ]
     },
     "metadata": {
      "needs_background": "light"
     },
     "output_type": "display_data"
    }
   ],
   "source": [
    "## Importing Matplotlib library for ploting the histogram plot\n",
    "import matplotlib.pyplot as plt\n",
    "\n",
    "## Creating plot size for a better view\n",
    "plt.figure(figsize=(6,12))\n",
    "\n",
    "## Plotting the respective graphs\n",
    "plt.subplot(3,1,1)\n",
    "\n",
    "plt.hist(dataset['a'])\n",
    "plt.title(\"Histogram plot of Column a\",fontsize=15,c='g')\n",
    "plt.xlabel(\"Value of a\",fontsize=12)\n",
    "plt.ylabel(\"Frequency\",fontsize=12)\n",
    "\n",
    "plt.subplot(3,1,2)\n",
    "plt.hist(dataset['b'])\n",
    "plt.title(\"Histogram plot of Column b\",fontsize=15,c='g')\n",
    "plt.xlabel(\"Value of b\",fontsize=12)\n",
    "plt.ylabel(\"Frequency\",fontsize=12)\n",
    "\n",
    "plt.subplot(3,1,3)\n",
    "plt.hist(dataset['c'])\n",
    "plt.title(\"Histogram plot of Column c\",fontsize=15,c='g')\n",
    "plt.xlabel(\"Value of c\",fontsize=12)\n",
    "plt.ylabel(\"Frequency\",fontsize=12)\n",
    "\n",
    "## for separating the figures from one another so that they will not overlap\n",
    "plt.tight_layout()"
   ]
  },
  {
   "cell_type": "markdown",
   "id": "ab7d9c53",
   "metadata": {},
   "source": [
    "## 3. Given below is a text. Using the NLTK toolkit, perform the following tasks:\n",
    "### 3(a) split the text into a list of words\n",
    "### 3(b) tokenize the string sentencewise\n",
    "    Traditional optimization solvers tend to start the search from scratch by assuming zero prior knowledge about the task at hand. Generally speaking, the capabilities of solvers do not automatically grow with experience. In contrast, however, humans routinely make use of a pool of knowledge drawn from past experiences whenever faced with a new task."
   ]
  },
  {
   "cell_type": "markdown",
   "id": "984b3b02-99be-4edc-952b-e66aa201599b",
   "metadata": {},
   "source": [
    "### Ans -> 3A"
   ]
  },
  {
   "cell_type": "code",
   "execution_count": 6,
   "id": "8065d679",
   "metadata": {},
   "outputs": [],
   "source": [
    "## Importing the Word_tokenize function form the Natural language library\n",
    "from nltk.tokenize import word_tokenize"
   ]
  },
  {
   "cell_type": "code",
   "execution_count": 7,
   "id": "b1e1ece3-2fec-42ba-b245-553a802b1375",
   "metadata": {},
   "outputs": [
    {
     "name": "stdout",
     "output_type": "stream",
     "text": [
      "Wordwise tokenized List of given text:\n",
      "\n",
      " ['Traditional', 'optimization', 'solvers', 'tend', 'to', 'start', 'the', 'search', 'from', 'scratch', 'by', 'assuming', 'zero', 'prior', 'knowledge', 'about', 'the', 'task', 'at', 'hand', '.', 'Generally', 'speaking', ',', 'the', 'capabilities', 'of', 'solvers', 'do', 'not', 'automatically', 'grow', 'with', 'experience', '.', 'In', 'contrast', ',', 'however', ',', 'humans', 'routinely', 'make', 'use', 'of', 'a', 'pool', 'of', 'knowledge', 'drawn', 'from', 'past', 'experiences', 'whenever', 'faced', 'with', 'a', 'new', 'task', '.']\n"
     ]
    }
   ],
   "source": [
    "## Taking the input\n",
    "text='''Traditional optimization solvers tend to start the search from scratch by assuming zero prior knowledge about the task at hand. Generally speaking, the capabilities of solvers do not automatically grow with experience. In contrast, however,\n",
    "humans routinely make use of a pool of knowledge drawn from past experiences whenever faced with a new task.'''\n",
    "\n",
    "## Tokenizing the given input into words\n",
    "text_words=word_tokenize(text)\n",
    "\n",
    "## Printing the Tokenized list\n",
    "print(\"Wordwise tokenized List of given text:\\n\\n\",text_words)"
   ]
  },
  {
   "cell_type": "markdown",
   "id": "47964447-309e-4a2a-9be3-dac17e15e784",
   "metadata": {},
   "source": [
    "### Ans -> 3B"
   ]
  },
  {
   "cell_type": "code",
   "execution_count": 8,
   "id": "f257cce3-9014-45af-a5fc-4138110461f9",
   "metadata": {},
   "outputs": [],
   "source": [
    "## Importing the sent_tokenize function form the Natural language library\n",
    "from nltk.tokenize import sent_tokenize"
   ]
  },
  {
   "cell_type": "code",
   "execution_count": 9,
   "id": "fb6a9d9e-7667-48d2-9b4a-bd11cdddbef6",
   "metadata": {},
   "outputs": [
    {
     "name": "stdout",
     "output_type": "stream",
     "text": [
      "Sentencewise tokenized List of given text:\n",
      "\n",
      " ['Traditional optimization solvers tend to start the search from scratch by assuming zero prior knowledge about the task at hand.', 'Generally speaking, the capabilities of solvers do not automatically grow with experience.', 'In contrast, however,\\nhumans routinely make use of a pool of knowledge drawn from past experiences whenever faced with a new task.']\n"
     ]
    }
   ],
   "source": [
    "## Tokenizing the given input into words\n",
    "text_sent=sent_tokenize(text)\n",
    "\n",
    "## Printing the Tokenized list\n",
    "print(\"Sentencewise tokenized List of given text:\\n\\n\",text_sent)"
   ]
  },
  {
   "cell_type": "code",
   "execution_count": 10,
   "id": "471c7c54-62d9-4360-aaa3-64c966463e14",
   "metadata": {},
   "outputs": [
    {
     "name": "stdout",
     "output_type": "stream",
     "text": [
      "\n",
      "Reading through the list:\n",
      "\n",
      "Traditional optimization solvers tend to start the search from scratch by assuming zero prior knowledge about the task at hand.\n",
      "Generally speaking, the capabilities of solvers do not automatically grow with experience.\n",
      "In contrast, however,\n",
      "humans routinely make use of a pool of knowledge drawn from past experiences whenever faced with a new task.\n"
     ]
    }
   ],
   "source": [
    "## Printing the Tokenized list content on by one\n",
    "print(\"\\nReading through the list:\\n\")\n",
    "for line in text_sent:\n",
    "    print(line)"
   ]
  },
  {
   "cell_type": "markdown",
   "id": "e344204c",
   "metadata": {},
   "source": [
    "## 4. Import the iris dataset from sk learn datasets and perform the following opertions:\n",
    "### 4(a) Display the first 5 rows of the dataset\n",
    "### 4(b) Split the dataset into trainig and testing dataset, taking 70% data for training\n",
    "### 4(c) Normalize the dataset\n",
    "### 4(d) Create a model (from tensorflow.keras.models import Sequential)"
   ]
  },
  {
   "cell_type": "code",
   "execution_count": 11,
   "id": "4629c8f8",
   "metadata": {},
   "outputs": [],
   "source": [
    "## Importing the Required libraries\n",
    "import numpy as np\n",
    "import pandas as pd\n",
    "import tensorflow as tf\n",
    "\n",
    "##Importing the Dataset from the sklearn library\n",
    "from sklearn.datasets import load_iris"
   ]
  },
  {
   "cell_type": "markdown",
   "id": "e67eb842-5b80-418c-82bf-12e79f0b93c2",
   "metadata": {},
   "source": [
    "### Ans -> 4(A)"
   ]
  },
  {
   "cell_type": "code",
   "execution_count": 12,
   "id": "c3bb8a4d",
   "metadata": {},
   "outputs": [
    {
     "data": {
      "text/html": [
       "<div>\n",
       "<style scoped>\n",
       "    .dataframe tbody tr th:only-of-type {\n",
       "        vertical-align: middle;\n",
       "    }\n",
       "\n",
       "    .dataframe tbody tr th {\n",
       "        vertical-align: top;\n",
       "    }\n",
       "\n",
       "    .dataframe thead th {\n",
       "        text-align: right;\n",
       "    }\n",
       "</style>\n",
       "<table border=\"1\" class=\"dataframe\">\n",
       "  <thead>\n",
       "    <tr style=\"text-align: right;\">\n",
       "      <th></th>\n",
       "      <th>sepal length (cm)</th>\n",
       "      <th>sepal width (cm)</th>\n",
       "      <th>petal length (cm)</th>\n",
       "      <th>petal width (cm)</th>\n",
       "      <th>target</th>\n",
       "    </tr>\n",
       "  </thead>\n",
       "  <tbody>\n",
       "    <tr>\n",
       "      <th>0</th>\n",
       "      <td>5.1</td>\n",
       "      <td>3.5</td>\n",
       "      <td>1.4</td>\n",
       "      <td>0.2</td>\n",
       "      <td>0</td>\n",
       "    </tr>\n",
       "    <tr>\n",
       "      <th>1</th>\n",
       "      <td>4.9</td>\n",
       "      <td>3.0</td>\n",
       "      <td>1.4</td>\n",
       "      <td>0.2</td>\n",
       "      <td>0</td>\n",
       "    </tr>\n",
       "    <tr>\n",
       "      <th>2</th>\n",
       "      <td>4.7</td>\n",
       "      <td>3.2</td>\n",
       "      <td>1.3</td>\n",
       "      <td>0.2</td>\n",
       "      <td>0</td>\n",
       "    </tr>\n",
       "    <tr>\n",
       "      <th>3</th>\n",
       "      <td>4.6</td>\n",
       "      <td>3.1</td>\n",
       "      <td>1.5</td>\n",
       "      <td>0.2</td>\n",
       "      <td>0</td>\n",
       "    </tr>\n",
       "    <tr>\n",
       "      <th>4</th>\n",
       "      <td>5.0</td>\n",
       "      <td>3.6</td>\n",
       "      <td>1.4</td>\n",
       "      <td>0.2</td>\n",
       "      <td>0</td>\n",
       "    </tr>\n",
       "  </tbody>\n",
       "</table>\n",
       "</div>"
      ],
      "text/plain": [
       "   sepal length (cm)  sepal width (cm)  petal length (cm)  petal width (cm)  \\\n",
       "0                5.1               3.5                1.4               0.2   \n",
       "1                4.9               3.0                1.4               0.2   \n",
       "2                4.7               3.2                1.3               0.2   \n",
       "3                4.6               3.1                1.5               0.2   \n",
       "4                5.0               3.6                1.4               0.2   \n",
       "\n",
       "   target  \n",
       "0       0  \n",
       "1       0  \n",
       "2       0  \n",
       "3       0  \n",
       "4       0  "
      ]
     },
     "execution_count": 12,
     "metadata": {},
     "output_type": "execute_result"
    }
   ],
   "source": [
    "## Assigning the IRIS dataset into the user defined variable\n",
    "data_iris = load_iris()\n",
    "\n",
    "## Converting it into Pandas dataframe for further references\n",
    "df = pd.DataFrame(data_iris.data, columns=data_iris.feature_names)\n",
    "df['target'] = data_iris['target']\n",
    "df.head(5)"
   ]
  },
  {
   "cell_type": "code",
   "execution_count": 13,
   "id": "3bbe65ab",
   "metadata": {},
   "outputs": [],
   "source": [
    "## Assigning the Dependent data in variable y and independent data in variable x\n",
    "x = df.iloc[:, :-1].values\n",
    "y = df.iloc[:,-1].values"
   ]
  },
  {
   "cell_type": "markdown",
   "id": "bb535296-bd5b-455c-87b6-6e38c154a65e",
   "metadata": {},
   "source": [
    "### Ans -> 4(B)"
   ]
  },
  {
   "cell_type": "code",
   "execution_count": 14,
   "id": "636b5e28-abeb-40c9-a273-48474e0e32dc",
   "metadata": {},
   "outputs": [],
   "source": [
    "## Importing the Required libraries for spliting the training and testing data (70% for training and 30% for testing)\n",
    "from sklearn.model_selection import train_test_split\n",
    "x_train,x_test,y_train,y_test = train_test_split(x,y, test_size = 0.3, random_state = 42)"
   ]
  },
  {
   "cell_type": "markdown",
   "id": "a2091329-e037-499b-b943-52d486e1b678",
   "metadata": {},
   "source": [
    "### Ans -> 4(C)"
   ]
  },
  {
   "cell_type": "code",
   "execution_count": 15,
   "id": "44bb72dc",
   "metadata": {},
   "outputs": [],
   "source": [
    "## Scalling the dataset according to the StandardScaler.\n",
    "from sklearn.preprocessing import StandardScaler     ##  We can also use (MinMaxScaler) as done in Class.\n",
    "sc = StandardScaler()\n",
    "x_train = sc.fit_transform(x_train)\n",
    "x_test = sc.transform(x_test)"
   ]
  },
  {
   "cell_type": "markdown",
   "id": "2b656ec8-032d-4a73-a9eb-bb9739837e37",
   "metadata": {},
   "source": [
    "### Ans -> 4(D)"
   ]
  },
  {
   "cell_type": "code",
   "execution_count": 16,
   "id": "32645beb-4ee3-4b44-8d61-dfea095c1fd7",
   "metadata": {},
   "outputs": [],
   "source": [
    "## Importing libraries of neural network from tensorflow package\n",
    "from tensorflow.keras.models import Sequential\n",
    "from tensorflow.keras.layers import Dense, Activation"
   ]
  },
  {
   "cell_type": "code",
   "execution_count": 17,
   "id": "b8ce9fb8-15a0-4ce8-8159-7703016ff4f2",
   "metadata": {},
   "outputs": [],
   "source": [
    "## defining the model and adding the Neuron layer as ( 4 => 4 => 4=> 1 )\n",
    "\n",
    "ann = Sequential()\n",
    "ann.add(Dense(units = 4, activation='relu'))\n",
    "ann.add(Dense(units = 4, activation='relu'))\n",
    "ann.add(Dense(units = 4, activation='relu'))\n",
    "\n",
    "## Output neuron layer ( need to Classify in 3 class)\n",
    "ann.add(Dense(units = 3, activation='sigmoid'))"
   ]
  },
  {
   "cell_type": "code",
   "execution_count": 18,
   "id": "1391b561-88b8-4719-bc56-a6efbcc8c66c",
   "metadata": {},
   "outputs": [],
   "source": [
    "## assigning the optimizer and loss function of neural network formed above ( for logistic regression )\n",
    "ann.compile(optimizer='rmsprop',loss='categorical_crossentropy',metrics=['accuracy'])"
   ]
  },
  {
   "cell_type": "code",
   "execution_count": 19,
   "id": "40b927d4-52d7-48e3-83ba-2e94fa4d4677",
   "metadata": {},
   "outputs": [],
   "source": [
    "## model is compiled"
   ]
  }
 ],
 "metadata": {
  "kernelspec": {
   "display_name": "Python 3",
   "language": "python",
   "name": "python3"
  },
  "language_info": {
   "codemirror_mode": {
    "name": "ipython",
    "version": 3
   },
   "file_extension": ".py",
   "mimetype": "text/x-python",
   "name": "python",
   "nbconvert_exporter": "python",
   "pygments_lexer": "ipython3",
   "version": "3.9.7"
  }
 },
 "nbformat": 4,
 "nbformat_minor": 5
}
